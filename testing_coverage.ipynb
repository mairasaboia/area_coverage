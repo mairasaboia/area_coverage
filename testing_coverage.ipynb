{
 "cells": [
  {
   "cell_type": "code",
   "execution_count": null,
   "metadata": {},
   "outputs": [],
   "source": [
    "import numpy as np\n",
    "import random\n",
    "import matplotlib.pyplot as plt\n",
    "import time\n",
    "import cv2  "
   ]
  },
  {
   "cell_type": "code",
   "execution_count": null,
   "metadata": {},
   "outputs": [],
   "source": [
    "def selection(img):\n",
    "    index = np.unravel_index(np.argmax(img), img.shape, order='F')    \n",
    "    return index    "
   ]
  },
  {
   "cell_type": "code",
   "execution_count": null,
   "metadata": {},
   "outputs": [],
   "source": [
    "def mask_it(img, cx, cy, r, color=0, thickness=-1):\n",
    "    roi = np.zeros(img.shape, np.uint8)\n",
    "    roi = cv2.circle(roi, (cx,cy), r, color=1, thickness=thickness)\n",
    "    masked_data = cv2.bitwise_and(img, img, mask=roi)\n",
    "    return masked_data"
   ]
  },
  {
   "cell_type": "code",
   "execution_count": null,
   "metadata": {},
   "outputs": [],
   "source": [
    "def monte_carlo_sampling(mask_img):\n",
    "    samples = list(np.argwhere(mask_img>0))\n",
    "    random.shuffle(samples)\n",
    "    return samples"
   ]
  },
  {
   "cell_type": "code",
   "execution_count": null,
   "metadata": {},
   "outputs": [],
   "source": [
    "def select_start(img):\n",
    "    for i in range(img.shape[0]):\n",
    "        if img[i,1]>0: \n",
    "            return (i,1)"
   ]
  },
  {
   "cell_type": "code",
   "execution_count": null,
   "metadata": {},
   "outputs": [],
   "source": [
    "def is_los(img, start, end):\n",
    "    roi = np.zeros(img.shape, np.uint8)\n",
    "    roi = cv2.line(roi, start, end, 1, thickness=1)    \n",
    "    line = cv2.bitwise_and(img, img, mask=roi)     \n",
    "    return len(list(np.argwhere(roi>0))) == len(list(np.argwhere(line>0))), line "
   ]
  },
  {
   "cell_type": "code",
   "execution_count": null,
   "metadata": {},
   "outputs": [],
   "source": [
    "max_size = 1000\n",
    "image = np.ones((max_size,max_size),np.uint8)\n",
    "\n",
    "borda = 1\n",
    "image[0:borda] = 0 # top\n",
    "image[:,0:borda] = 0 # left\n",
    "image[:,max_size-borda:max_size] = 0 # right\n",
    "image[max_size-borda:max_size,:] = 0 # bottom\n",
    "max_rect_size = 100\n",
    "num_of_rects = 200\n",
    "# DRAW RECTANGLES\n",
    "for i in range(num_of_rects):    \n",
    "    # represents the top left corner of rectangle \n",
    "    start_point = (random.randint(0,max_size), random.randint(0,max_size)) \n",
    "    # represents the bottom right corner of rectangle \n",
    "    end_point = (random.randint(-max_rect_size,max_rect_size)+start_point[0], random.randint(-max_rect_size,max_rect_size)+start_point[1])             \n",
    "    # Using cv2.rectangle() method \n",
    "    # Draw a rectangle of black color of thickness -1 px \n",
    "    image = cv2.rectangle(image, start_point, end_point, color=0, thickness=-1) \n",
    "    \n",
    "# Perform the distance transform algorithm\n",
    "dist = cv2.distanceTransform(image, cv2.DIST_L2, 3)  \n",
    "norm_image = dist/(np.max(dist)-np.min(dist))\n",
    "index = np.unravel_index(np.argmax(norm_image), norm_image.shape, order='F')\n",
    "\n",
    "plt.figure()\n",
    "plt.subplot(1,2,1)\n",
    "plt.imshow(image, 'gray', interpolation='none')\n",
    "plt.subplot(1,2,2)\n",
    "plt.imshow(norm_image, 'gray', interpolation='none')\n",
    "plt.show()\n",
    "# print(norm_image[1,1],image[1,1])"
   ]
  },
  {
   "cell_type": "code",
   "execution_count": null,
   "metadata": {},
   "outputs": [],
   "source": [
    "output = norm_image.copy()\n",
    "sense_range = 200\n",
    "to_print = np.ones((max_size,max_size),np.uint8)*255\n",
    "index = select_start(image)\n",
    "masked_data = mask_it(output,*index,sense_range,thickness=-1)\n",
    "\n",
    "cv2.circle(output, (index[1], index[0]),110, color=0, thickness=-1)\n",
    "cv2.circle(to_print, (index[1], index[0]),110, color=100, thickness=-1)\n",
    "\n",
    "num_of_iterations = 5\n",
    "for j in range(num_of_iterations):\n",
    "    print(j)\n",
    "    samples = monte_carlo_sampling(masked_data) # Sampling    \n",
    "\n",
    "    for i in range(len(samples)):\n",
    "        new_index = tuple(samples[i])\n",
    "        flag, line = is_los(norm_image, index, new_index)\n",
    "        \n",
    "        if flag:\n",
    "            cv2.circle(output, (new_index[1],new_index[0]), 110, color=0, thickness=-1)\n",
    "            cv2.circle(to_print, (index[1], index[0]),100, color=110, thickness=-1)\n",
    "            \n",
    "            masked_data = mask_it(output,*new_index,sense_range,thickness=-1)\n",
    "            index = new_index      \n",
    "            \n",
    "            plt.figure()\n",
    "            plt.subplot(1,2,1)\n",
    "            plt.imshow(output, 'gray', interpolation='none')\n",
    "            plt.subplot(1,2,2)\n",
    "            plt.imshow(image, 'gray', interpolation='none')\n",
    "            break\n",
    "            \n",
    "final = cv2.bitwise_and(image*255, to_print)  \n",
    "plt.figure()\n",
    "plt.subplot(1,2,1)\n",
    "plt.imshow(final, 'gray', interpolation='none')\n",
    "\n",
    "# print(index,new_index)\n",
    "# print(samples[0])\n",
    "\n",
    "# while not flag:\n",
    "# #     new_index = monte_carlo_sampling(output) # Sampling           \n",
    "#     flag, line = is_los(output, index, new_index)\n",
    "#     print(new_index, flag)\n",
    "\n",
    "\n",
    "# # print(index, new_index)"
   ]
  },
  {
   "cell_type": "code",
   "execution_count": null,
   "metadata": {
    "scrolled": true
   },
   "outputs": [],
   "source": [
    "# output = norm_image.copy()\n",
    "# r = 250\n",
    "# index = select_start(norm_image)\n",
    "# print(index)\n",
    "# for i in range(10):\n",
    "    \n",
    "#     output = mask_it(output,*index,r,thickness=-1) # Sensing range \n",
    "#     new_index = monte_carlo_sampling(output) # Sampling    \n",
    "#     # masked_data = mask_it(output,*new_index,r,thickness=-1)\n",
    "    \n",
    "# #     while not is_los(output, index, new_index):\n",
    "# #     new_index = monte_carlo_sampling(output)\n",
    "# #     masked_data = mask_it(output,*new_index,r,thickness=-1)\n",
    "#     flag, line = is_los(output, index, new_index)\n",
    "#     while not flag:\n",
    "#         break\n",
    "# #     print(is_los(output, index, new_index))\n",
    "# #     print(index, new_index, flag)\n",
    "    \n",
    "# #     for j in range(100):\n",
    "# #         new_index = monte_carlo_sampling(output) # Sampling    \n",
    "# #         print(is_los(output, index, new_index))\n",
    "# #         print(index, new_index)    \n",
    "\n"
   ]
  },
  {
   "cell_type": "code",
   "execution_count": null,
   "metadata": {},
   "outputs": [],
   "source": [
    "# output = norm_image.copy()\n",
    "# for i in range(100):\n",
    "#     index = np.unravel_index(np.argmax(output), (1000,1000), order='F')\n",
    "#     r = 10\n",
    "#     output = cv2.circle(output,index,r,1,thickness=-1)"
   ]
  },
  {
   "cell_type": "code",
   "execution_count": null,
   "metadata": {},
   "outputs": [],
   "source": [
    "# roi = np.zeros((1000,1000),np.uint8)\n",
    "# cx = 5\n",
    "# cy = 5\n",
    "# r = 250\n",
    "# roi= cv2.circle(roi,(cx,cy),r,1,thickness=-1)\n",
    "# masked_data = cv2.bitwise_and(dist, dist, mask=roi)"
   ]
  },
  {
   "cell_type": "code",
   "execution_count": null,
   "metadata": {},
   "outputs": [],
   "source": [
    "# - sensing model (obstacles and other objects (for the semantic ))\n",
    "# - semantic search\n",
    "# Will we have an IRM?\n"
   ]
  },
  {
   "cell_type": "code",
   "execution_count": null,
   "metadata": {},
   "outputs": [],
   "source": [
    "#     roi = np.zeros(output.shape, np.uint8)\n",
    "#     roi = cv2.line(roi, (cx,cy), r, color=1, thickness=thickness)\n",
    "#     roi = cv2.line(roi, index, new_index, 1, thickness=5)     \n",
    "#     line = cv2.bitwise_and(output, output, mask=roi)"
   ]
  },
  {
   "cell_type": "code",
   "execution_count": null,
   "metadata": {},
   "outputs": [],
   "source": []
  },
  {
   "cell_type": "code",
   "execution_count": null,
   "metadata": {},
   "outputs": [],
   "source": []
  }
 ],
 "metadata": {
  "kernelspec": {
   "display_name": "Python 3",
   "language": "python",
   "name": "python3"
  },
  "language_info": {
   "codemirror_mode": {
    "name": "ipython",
    "version": 3
   },
   "file_extension": ".py",
   "mimetype": "text/x-python",
   "name": "python",
   "nbconvert_exporter": "python",
   "pygments_lexer": "ipython3",
   "version": "3.6.9"
  }
 },
 "nbformat": 4,
 "nbformat_minor": 4
}
